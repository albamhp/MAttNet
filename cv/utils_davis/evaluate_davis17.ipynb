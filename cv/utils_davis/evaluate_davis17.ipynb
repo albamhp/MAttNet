{
 "cells": [
  {
   "cell_type": "code",
   "execution_count": 1,
   "metadata": {},
   "outputs": [
    {
     "name": "stdout",
     "output_type": "stream",
     "text": [
      "Populating the interactive namespace from numpy and matplotlib\n"
     ]
    }
   ],
   "source": [
    "from __future__ import absolute_import\n",
    "from __future__ import division\n",
    "from __future__ import print_function\n",
    "\n",
    "import os\n",
    "import sys\n",
    "\n",
    "%pylab inline\n",
    "import matplotlib.pyplot as plt\n",
    "\n",
    "import numpy as np\n",
    "from PIL import Image\n",
    "import cv2\n",
    "from itertools import product\n"
   ]
  },
  {
   "cell_type": "code",
   "execution_count": 2,
   "metadata": {},
   "outputs": [],
   "source": [
    "def intersection_over_union(target, prediction):\n",
    "    # https://www.jeremyjordan.me/evaluating-image-segmentation-models/\n",
    "    intersection = np.logical_and(target, prediction)\n",
    "    union = np.logical_or(target, prediction)\n",
    "    iou_score = np.sum(intersection) / np.sum(union)\n",
    "\n",
    "    # return the intersection over union value\n",
    "    return iou_score"
   ]
  },
  {
   "cell_type": "code",
   "execution_count": 5,
   "metadata": {},
   "outputs": [],
   "source": [
    "# DAVIS query information\n",
    "davis = ['17']\n",
    "annot = ['annot1', 'annot2']\n",
    "\n",
    "# image path\n",
    "IMAGE_DIR = '../../../datasets/'\n",
    "PRED_DIR = '../../data/'\n",
    "frame = 0\n"
   ]
  },
  {
   "cell_type": "code",
   "execution_count": 6,
   "metadata": {},
   "outputs": [
    {
     "name": "stdout",
     "output_type": "stream",
     "text": [
      " >> Annot:  annot1  >> Seq:  aerobatics\n",
      " REFCOCO >> IOU:  [0.0, 0.00017514668534897976, 0.37766544978002436]\n",
      " REFCOCO+ >> IOU:  [0.0, 0.0, 0.37766544978002436]\n",
      " REFCOCOg >> IOU:  [0.0, 0.00017514668534897976, 0.37766544978002436]\n",
      " >> Annot:  annot1  >> Seq:  car-race\n",
      " REFCOCO >> IOU:  [0.0, 0.0, 0.0, 0.08900720713849908]\n",
      " REFCOCO+ >> IOU:  [0.0, 0.0, 0.0, 0.08900720713849908]\n",
      " REFCOCOg >> IOU:  [0.0, 0.0, 0.0, 0.08900720713849908]\n",
      " >> Annot:  annot1  >> Seq:  carousel\n",
      " REFCOCO >> IOU:  [0.8590636383115492, 0.0, 0.0, 0.6095708775313404]\n",
      " REFCOCO+ >> IOU:  [0.0, 0.0, 0.0, 0.6095708775313404]\n",
      " REFCOCOg >> IOU:  [0.0, 0.0, 0.0, 0.6095708775313404]\n",
      " >> Annot:  annot1  >> Seq:  cats-car\n",
      " REFCOCO >> IOU:  [0.0, 0.2001445739586157, 0.884530088707744, 0.6309068406840684]\n",
      " REFCOCO+ >> IOU:  [0.0, 0.0, 0.884530088707744, 0.6309068406840684]\n",
      " REFCOCOg >> IOU:  [0.0, 0.2001445739586157, 0.884530088707744, 0.6309068406840684]\n",
      " >> Annot:  annot1  >> Seq:  chamaleon\n",
      " REFCOCO >> IOU:  [0.7235687922412003]\n",
      " REFCOCO+ >> IOU:  [0.7235687922412003]\n",
      " REFCOCOg >> IOU:  [0.7235687922412003]\n",
      " >> Annot:  annot1  >> Seq:  deer\n",
      " REFCOCO >> IOU:  [0.8261799445875663, 0.7520900321543408]\n",
      " REFCOCO+ >> IOU:  [0.8261799445875663, 0.7520900321543408]\n",
      " REFCOCOg >> IOU:  [0.8261799445875663, 0.7520900321543408]\n",
      " >> Annot:  annot1  >> Seq:  giant-slalom\n",
      " REFCOCO >> IOU:  [0.0, 0.0, 0.7023484434735118]\n",
      " REFCOCO+ >> IOU:  [0.0, 0.0, 0.7023484434735118]\n",
      " REFCOCOg >> IOU:  [0.2088167053364269, 0.0, 0.7023484434735118]\n",
      " >> Annot:  annot1  >> Seq:  girl-dog\n",
      " REFCOCO >> IOU:  [0.0, 0.0, 0.10629542362194272]\n",
      " REFCOCO+ >> IOU:  [0.0, 0.8518595041322314, 0.10629542362194272]\n",
      " REFCOCOg >> IOU:  [0.0, 0.0, 0.31014718694117105]\n",
      " >> Annot:  annot1  >> Seq:  golf\n",
      " REFCOCO >> IOU:  [0.013209098383118663, 0.0, 0.8051260326202075]\n",
      " REFCOCO+ >> IOU:  [0.007045769764216366, 0.0, 0.8051260326202075]\n",
      " REFCOCOg >> IOU:  [0.013209098383118663, 0.0, 0.8051260326202075]\n",
      " >> Annot:  annot1  >> Seq:  guitar-violin\n",
      " REFCOCO >> IOU:  [0.0, 0.0, 0.0, 0.1153974732750243]\n",
      " REFCOCO+ >> IOU:  [0.0, 0.0, 0.0, 0.1153974732750243]\n",
      " REFCOCOg >> IOU:  [0.0, 0.0, 0.0, 0.1153974732750243]\n",
      " >> Annot:  annot1  >> Seq:  gym\n",
      " REFCOCO >> IOU:  [0.9263298093731791, 0.0, 0.0, 0.0]\n",
      " REFCOCO+ >> IOU:  [0.9263298093731791, 0.0, 0.0, 0.0]\n",
      " REFCOCOg >> IOU:  [0.0, 0.7978096410978185, 0.0, 0.7711711711711712]\n",
      " >> Annot:  annot1  >> Seq:  helicopter\n",
      " REFCOCO >> IOU:  [0.8999749220793178, 0.7075585789871505]\n",
      " REFCOCO+ >> IOU:  [0.8999749220793178, 0.7075585789871505]\n",
      " REFCOCOg >> IOU:  [0.8999749220793178, 0.7075585789871505]\n",
      " >> Annot:  annot1  >> Seq:  horsejump-stick\n",
      " REFCOCO >> IOU:  [0.0, 0.7346243500089654, 0.7758824468934675]\n",
      " REFCOCO+ >> IOU:  [0.0, 0.0, 0.7758824468934675]\n",
      " REFCOCOg >> IOU:  [0.0, 0.7346243500089654, 0.7758824468934675]\n",
      " >> Annot:  annot1  >> Seq:  hoverboard\n",
      " REFCOCO >> IOU:  [0.0, 0.009354375896700143]\n",
      " REFCOCO+ >> IOU:  [0.0, 0.009354375896700143]\n",
      " REFCOCOg >> IOU:  [0.0, 0.009354375896700143]\n",
      " >> Annot:  annot1  >> Seq:  lock\n",
      " REFCOCO >> IOU:  [0.0, 0.5637111231255157, 0.0, 0.7754421462829736]\n",
      " REFCOCO+ >> IOU:  [0.0, 0.5685787148450128, 0.0, 0.8132568042955008]\n",
      " REFCOCOg >> IOU:  [0.3284315547658521, 0.0010632824558394786, 0.0, 0.7754421462829736]\n",
      " >> Annot:  annot1  >> Seq:  man-bike\n",
      " REFCOCO >> IOU:  [0.8522877627003907, 0.6099480880806162]\n",
      " REFCOCO+ >> IOU:  [0.8522877627003907, 0.6099480880806162]\n",
      " REFCOCOg >> IOU:  [0.8522877627003907, 0.6099480880806162]\n",
      " >> Annot:  annot1  >> Seq:  monkeys-trees\n",
      " REFCOCO >> IOU:  [0.0, 0.45552784704904403]\n",
      " REFCOCO+ >> IOU:  [0.0, 0.45552784704904403]\n",
      " REFCOCOg >> IOU:  [0.0, 0.45552784704904403]\n",
      " >> Annot:  annot1  >> Seq:  mtb-race\n",
      " REFCOCO >> IOU:  [0.5400146598254149, 0.0, 0.0, 0.0]\n",
      " REFCOCO+ >> IOU:  [0.0, 0.0, 0.0, 0.0]\n",
      " REFCOCOg >> IOU:  [0.0, 0.0, 0.0, 0.0]\n",
      " >> Annot:  annot1  >> Seq:  orchid\n",
      " REFCOCO >> IOU:  [0.47967243057716047, 0.5706320442869091]\n",
      " REFCOCO+ >> IOU:  [0.0, 0.5706320442869091]\n",
      " REFCOCOg >> IOU:  [0.47967243057716047, 0.5706320442869091]\n",
      " >> Annot:  annot1  >> Seq:  people-sunset\n",
      " REFCOCO >> IOU:  [0.8462540716612378, 0.0, 0.0, 0.0]\n",
      " REFCOCO+ >> IOU:  [0.0, 0.0, 0.0, 0.0]\n",
      " REFCOCOg >> IOU:  [0.0, 0.0, 0.0, 0.0]\n",
      " >> Annot:  annot1  >> Seq:  planes-crossing\n",
      " REFCOCO >> IOU:  [0.0, 0.0]\n",
      " REFCOCO+ >> IOU:  [0.0, 0.0]\n",
      " REFCOCOg >> IOU:  [0.0, 0.0]\n"
     ]
    },
    {
     "name": "stderr",
     "output_type": "stream",
     "text": [
      "/imatge/alba.herrera/maskMattnet/MAttNet/venv2/local/lib/python2.7/site-packages/matplotlib/pyplot.py:522: RuntimeWarning: More than 20 figures have been opened. Figures created through the pyplot interface (`matplotlib.pyplot.figure`) are retained until explicitly closed and may consume too much memory. (To control this warning, see the rcParam `figure.max_open_warning`).\n",
      "  max_open_warning, RuntimeWarning)\n"
     ]
    },
    {
     "name": "stdout",
     "output_type": "stream",
     "text": [
      " >> Annot:  annot1  >> Seq:  rollercoaster\n",
      " REFCOCO >> IOU:  [0.07958357432041642]\n",
      " REFCOCO+ >> IOU:  [0.07958357432041642]\n",
      " REFCOCOg >> IOU:  [0.07958357432041642]\n",
      " >> Annot:  annot1  >> Seq:  salsa\n",
      " REFCOCO >> IOU:  [0.0, 0.0, 0.0, 0.0, 0.0, 0.09847454333462884, 0.0, 0.8143494377081109, 0.0013531799729364006, 0.789179190751445]\n",
      " REFCOCO+ >> IOU:  [0.0, 0.0, 0.0, 0.0, 0.0, 0.09847454333462884, 0.0, 0.8143494377081109, 0.0013531799729364006, 0.0]\n",
      " REFCOCOg >> IOU:  [0.0, 0.0, 0.0, 0.0, 0.0, 0.09732091415402343, 0.0, 0.0, 0.0, 0.0]\n",
      " >> Annot:  annot1  >> Seq:  seasnake\n",
      " REFCOCO >> IOU:  [0.6892862601253248]\n",
      " REFCOCO+ >> IOU:  [0.6892862601253248]\n",
      " REFCOCOg >> IOU:  [0.6892862601253248]\n",
      " >> Annot:  annot1  >> Seq:  skate-jump\n",
      " REFCOCO >> IOU:  [0.0, 0.8289745354439092]\n",
      " REFCOCO+ >> IOU:  [0.0, 0.8289745354439092]\n",
      " REFCOCOg >> IOU:  [0.0, 0.8289745354439092]\n",
      " >> Annot:  annot1  >> Seq:  slackline\n",
      " REFCOCO >> IOU:  [0.7573952199515067]\n",
      " REFCOCO+ >> IOU:  [0.7573952199515067]\n",
      " REFCOCOg >> IOU:  [0.7573952199515067]\n",
      " >> Annot:  annot1  >> Seq:  subway\n",
      " REFCOCO >> IOU:  [0.0, 0.0, 0.0, 0.0]\n",
      " REFCOCO+ >> IOU:  [0.0, 0.0, 0.7509381365926879, 0.0]\n",
      " REFCOCOg >> IOU:  [0.0, 0.0, 0.0, 0.007598555522118568]\n",
      " >> Annot:  annot1  >> Seq:  tandem\n",
      " REFCOCO >> IOU:  [0.0, 0.0, 0.0, 0.044309587023939674]\n",
      " REFCOCO+ >> IOU:  [0.0, 0.0, 0.0, 0.044309587023939674]\n",
      " REFCOCOg >> IOU:  [0.0, 0.0, 0.7213575096277278, 0.5615175669056419]\n",
      " >> Annot:  annot1  >> Seq:  tennis-vest\n",
      " REFCOCO >> IOU:  [0.0, 0.8137470542026709]\n",
      " REFCOCO+ >> IOU:  [0.0, 0.8137470542026709]\n",
      " REFCOCOg >> IOU:  [0.0, 0.8137470542026709]\n",
      " >> Annot:  annot1  >> Seq:  tractor\n",
      " REFCOCO >> IOU:  [0.0036324929471576485, 0.008604822033192192]\n",
      " REFCOCO+ >> IOU:  [0.2930775590086214, 0.49816393802018494]\n",
      " REFCOCOg >> IOU:  [0.2930775590086214, 0.49816393802018494]\n",
      "----------- Global Statistics ----------\n",
      " >> Annot:  annot1  >>Mean IOU Score REFCOCO:  0.25136386087412793\n",
      " >> Annot:  annot1  >>Mean IOU Score REFCOCO+:  0.22854580112251846\n",
      " >> Annot:  annot1  >>Mean IOU Score REFCOCOg:  0.24007064295633404\n",
      " >> Annot:  annot2  >> Seq:  aerobatics\n",
      " REFCOCO >> IOU:  [0.0, 0.00017514668534897976, 0.37766544978002436]\n",
      " REFCOCO+ >> IOU:  [0.010395642914379496, 0.0, 0.37766544978002436]\n",
      " REFCOCOg >> IOU:  [0.0, 0.00017514668534897976, 0.37766544978002436]\n",
      " >> Annot:  annot2  >> Seq:  car-race\n",
      " REFCOCO >> IOU:  [0.0, 0.0, 0.0, 0.08900720713849908]\n",
      " REFCOCO+ >> IOU:  [0.0, 0.0, 0.0, 0.08900720713849908]\n",
      " REFCOCOg >> IOU:  [0.0, 0.0, 0.0, 0.08900720713849908]\n",
      " >> Annot:  annot2  >> Seq:  carousel\n",
      " REFCOCO >> IOU:  [0.8590636383115492, 0.0, 0.0, 0.6095708775313404]\n",
      " REFCOCO+ >> IOU:  [0.8590636383115492, 0.0, 0.0, 0.6095708775313404]\n",
      " REFCOCOg >> IOU:  [0.8590636383115492, 0.0, 0.0, 0.6095708775313404]\n",
      " >> Annot:  annot2  >> Seq:  cats-car\n",
      " REFCOCO >> IOU:  [0.0, 0.2001445739586157, 0.884530088707744, 0.6309068406840684]\n",
      " REFCOCO+ >> IOU:  [0.0, 0.0, 0.884530088707744, 0.6309068406840684]\n",
      " REFCOCOg >> IOU:  [0.0, 0.2001445739586157, 0.884530088707744, 0.6309068406840684]\n",
      " >> Annot:  annot2  >> Seq:  chamaleon\n",
      " REFCOCO >> IOU:  [0.7235687922412003]\n",
      " REFCOCO+ >> IOU:  [0.7235687922412003]\n",
      " REFCOCOg >> IOU:  [0.7235687922412003]\n",
      " >> Annot:  annot2  >> Seq:  deer\n",
      " REFCOCO >> IOU:  [0.8261799445875663, 0.7520900321543408]\n",
      " REFCOCO+ >> IOU:  [0.8261799445875663, 0.7520900321543408]\n",
      " REFCOCOg >> IOU:  [0.8261799445875663, 0.7520900321543408]\n",
      " >> Annot:  annot2  >> Seq:  giant-slalom\n",
      " REFCOCO >> IOU:  [0.0, 0.0, 0.7023484434735118]\n",
      " REFCOCO+ >> IOU:  [0.0, 0.0, 0.7023484434735118]\n",
      " REFCOCOg >> IOU:  [0.0, 0.0, 0.7023484434735118]\n",
      " >> Annot:  annot2  >> Seq:  girl-dog\n",
      " REFCOCO >> IOU:  [0.0, 0.0, 0.10629542362194272]\n",
      " REFCOCO+ >> IOU:  [0.0, 0.0, 0.10629542362194272]\n",
      " REFCOCOg >> IOU:  [0.0, 0.0, 0.31014718694117105]\n",
      " >> Annot:  annot2  >> Seq:  golf\n",
      " REFCOCO >> IOU:  [0.0, 0.0, 0.8051260326202075]\n",
      " REFCOCO+ >> IOU:  [0.0, 0.0, 0.8051260326202075]\n",
      " REFCOCOg >> IOU:  [0.7679127725856698, 0.0, 0.8051260326202075]\n",
      " >> Annot:  annot2  >> Seq:  guitar-violin\n",
      " REFCOCO >> IOU:  [0.0, 0.0, 0.0, 0.1153974732750243]\n",
      " REFCOCO+ >> IOU:  [0.0, 0.0, 0.0, 0.1153974732750243]\n",
      " REFCOCOg >> IOU:  [0.0, 0.0, 0.0, 0.1153974732750243]\n",
      " >> Annot:  annot2  >> Seq:  gym\n",
      " REFCOCO >> IOU:  [0.9263298093731791, 0.0, 0.0, 0.0]\n",
      " REFCOCO+ >> IOU:  [0.9263298093731791, 0.0, 0.0, 0.0]\n",
      " REFCOCOg >> IOU:  [0.0, 0.0, 0.0, 0.7711711711711712]\n",
      " >> Annot:  annot2  >> Seq:  helicopter\n",
      " REFCOCO >> IOU:  [0.8999749220793178, 0.7075585789871505]\n",
      " REFCOCO+ >> IOU:  [0.0, 0.0]\n",
      " REFCOCOg >> IOU:  [0.8999749220793178, 0.7075585789871505]\n",
      " >> Annot:  annot2  >> Seq:  horsejump-stick\n",
      " REFCOCO >> IOU:  [0.0, 0.7346243500089654, 0.7758824468934675]\n",
      " REFCOCO+ >> IOU:  [0.0, 0.0, 0.7758824468934675]\n",
      " REFCOCOg >> IOU:  [0.0, 0.7346243500089654, 0.7758824468934675]\n",
      " >> Annot:  annot2  >> Seq:  hoverboard\n",
      " REFCOCO >> IOU:  [0.0, 0.009354375896700143]\n",
      " REFCOCO+ >> IOU:  [0.0, 0.009354375896700143]\n",
      " REFCOCOg >> IOU:  [0.0, 0.009354375896700143]\n",
      " >> Annot:  annot2  >> Seq:  lock\n",
      " REFCOCO >> IOU:  [0.0, 0.5645866879461932, 0.15931847545219638, 0.7754421462829736]\n",
      " REFCOCO+ >> IOU:  [0.0, 0.0, 0.014147894573049578, 0.09231769422472641]\n",
      " REFCOCOg >> IOU:  [0.0, 0.5637111231255157, 0.0, 0.7754421462829736]\n",
      " >> Annot:  annot2  >> Seq:  man-bike\n",
      " REFCOCO >> IOU:  [0.8522877627003907, 0.6099480880806162]\n",
      " REFCOCO+ >> IOU:  [0.8522877627003907, 0.6099480880806162]\n",
      " REFCOCOg >> IOU:  [0.8522877627003907, 0.6099480880806162]\n",
      " >> Annot:  annot2  >> Seq:  monkeys-trees\n",
      " REFCOCO >> IOU:  [0.0, 0.45552784704904403]\n",
      " REFCOCO+ >> IOU:  [0.0, 0.45552784704904403]\n",
      " REFCOCOg >> IOU:  [0.0, 0.45552784704904403]\n",
      " >> Annot:  annot2  >> Seq:  mtb-race\n",
      " REFCOCO >> IOU:  [0.0, 0.0, 0.002180666746325726, 0.0]\n",
      " REFCOCO+ >> IOU:  [0.0, 0.0, 0.002180666746325726, 0.0]\n",
      " REFCOCOg >> IOU:  [0.0, 0.0, 0.002180666746325726, 0.0]\n",
      " >> Annot:  annot2  >> Seq:  orchid\n",
      " REFCOCO >> IOU:  [0.0, 0.5706320442869091]\n",
      " REFCOCO+ >> IOU:  [0.0, 0.5706320442869091]\n",
      " REFCOCOg >> IOU:  [0.0, 0.5706320442869091]\n",
      " >> Annot:  annot2  >> Seq:  people-sunset\n",
      " REFCOCO >> IOU:  [0.0, 0.0, 0.0, 0.0]\n",
      " REFCOCO+ >> IOU:  [0.0, 0.840568271507498, 0.0, 0.0]\n",
      " REFCOCOg >> IOU:  [0.0, 0.0, 0.0, 0.0]\n",
      " >> Annot:  annot2  >> Seq:  planes-crossing\n",
      " REFCOCO >> IOU:  [0.0, 0.0]\n",
      " REFCOCO+ >> IOU:  [0.0, 0.0]\n",
      " REFCOCOg >> IOU:  [0.0, 0.0]\n",
      " >> Annot:  annot2  >> Seq:  rollercoaster\n",
      " REFCOCO >> IOU:  [0.10472541507024266]\n",
      " REFCOCO+ >> IOU:  [0.07958357432041642]\n",
      " REFCOCOg >> IOU:  [0.10472541507024266]\n",
      " >> Annot:  annot2  >> Seq:  salsa\n",
      " REFCOCO >> IOU:  [0.0, 0.0, 0.0, 0.0, 0.0, 0.09847454333462884, 0.0, 0.8143494377081109, 0.0013531799729364006, 0.789179190751445]\n",
      " REFCOCO+ >> IOU:  [0.0, 0.0, 0.0, 0.0, 0.0, 0.09847454333462884, 0.0, 0.0, 0.0, 0.789179190751445]\n",
      " REFCOCOg >> IOU:  [0.5189788053949904, 0.0, 0.0, 0.0, 0.0, 0.01283101283101283, 0.2995161638263121, 0.0, 0.0, 0.0]\n",
      " >> Annot:  annot2  >> Seq:  seasnake\n",
      " REFCOCO >> IOU:  [0.6892862601253248]\n",
      " REFCOCO+ >> IOU:  [0.6892862601253248]\n",
      " REFCOCOg >> IOU:  [0.6892862601253248]\n",
      " >> Annot:  annot2  >> Seq:  skate-jump\n",
      " REFCOCO >> IOU:  [0.0, 0.8289745354439092]\n",
      " REFCOCO+ >> IOU:  [0.0, 0.8289745354439092]\n",
      " REFCOCOg >> IOU:  [0.0, 0.8289745354439092]\n",
      " >> Annot:  annot2  >> Seq:  slackline\n",
      " REFCOCO >> IOU:  [0.7573952199515067]\n",
      " REFCOCO+ >> IOU:  [0.7573952199515067]\n",
      " REFCOCOg >> IOU:  [0.7573952199515067]\n",
      " >> Annot:  annot2  >> Seq:  subway\n",
      " REFCOCO >> IOU:  [0.0, 0.0, 0.0, 0.0]\n",
      " REFCOCO+ >> IOU:  [0.0, 0.0, 0.7509381365926879, 0.0]\n",
      " REFCOCOg >> IOU:  [0.0, 0.0, 0.0, 0.0]\n",
      " >> Annot:  annot2  >> Seq:  tandem\n",
      " REFCOCO >> IOU:  [0.0, 0.0, 0.7213575096277278, 0.5615175669056419]\n",
      " REFCOCO+ >> IOU:  [0.0, 0.0, 0.7213575096277278, 0.5615175669056419]\n",
      " REFCOCOg >> IOU:  [0.0, 0.0, 0.7213575096277278, 0.5615175669056419]\n",
      " >> Annot:  annot2  >> Seq:  tennis-vest\n",
      " REFCOCO >> IOU:  [0.0, 0.8137470542026709]\n",
      " REFCOCO+ >> IOU:  [0.0, 0.8137470542026709]\n",
      " REFCOCOg >> IOU:  [0.0, 0.8137470542026709]\n",
      " >> Annot:  annot2  >> Seq:  tractor\n",
      " REFCOCO >> IOU:  [0.2930775590086214, 0.49816393802018494]\n",
      " REFCOCO+ >> IOU:  [0.2930775590086214, 0.49816393802018494]\n",
      " REFCOCOg >> IOU:  [0.0, 0.49816393802018494]\n",
      "----------- Global Statistics ----------\n",
      " >> Annot:  annot2  >>Mean IOU Score REFCOCO:  0.2550260626592962\n",
      " >> Annot:  annot2  >>Mean IOU Score REFCOCO+:  0.2193597514231244\n",
      " >> Annot:  annot2  >>Mean IOU Score REFCOCOg:  0.24931037646498821\n"
     ]
    },
    {
     "data": {
      "image/png": "[encoded data removed]",
      "text/plain": [
       "<Figure size 432x288 with 4 Axes>"
      ]
     },
     "metadata": {
      "needs_background": "light"
     },
     "output_type": "display_data"
    },
    {
     "data": {
      "image/png": "[encoded data removed]",
      "text/plain": [
       "<Figure size 432x288 with 4 Axes>"
      ]
     },
     "metadata": {
      "needs_background": "light"
     },
     "output_type": "display_data"
    },
    {
     "data": {
      "image/png": "[encoded data removed]",
      "text/plain": [
       "<Figure size 432x288 with 4 Axes>"
      ]
     },
     "metadata": {
      "needs_background": "light"
     },
     "output_type": "display_data"
    },
    {
     "data": {
      "image/png": "[encoded data removed]",
      "text/plain": [
       "<Figure size 432x288 with 4 Axes>"
      ]
     },
     "metadata": {
      "needs_background": "light"
     },
     "output_type": "display_data"
    },
    {
     "data": {
      "image/png": "[encoded data removed]",
      "text/plain": [
       "<Figure size 432x288 with 4 Axes>"
      ]
     },
     "metadata": {
      "needs_background": "light"
     },
     "output_type": "display_data"
    },
    {
     "data": {
      "image/png": "[encoded data removed]",
      "text/plain": [
       "<Figure size 432x288 with 4 Axes>"
      ]
     },
     "metadata": {
      "needs_background": "light"
     },
     "output_type": "display_data"
    },
    {
     "data": {
      "image/png": "[encoded data removed]",
      "text/plain": [
       "<Figure size 432x288 with 4 Axes>"
      ]
     },
     "metadata": {
      "needs_background": "light"
     },
     "output_type": "display_data"
    },
    {
     "data": {
      "image/png": "[encoded data removed]",
      "text/plain": [
       "<Figure size 432x288 with 4 Axes>"
      ]
     },
     "metadata": {
      "needs_background": "light"
     },
     "output_type": "display_data"
    },
    {
     "data": {
      "image/png": "[encoded data removed]",
      "text/plain": [
       "<Figure size 432x288 with 4 Axes>"
      ]
     },
     "metadata": {
      "needs_background": "light"
     },
     "output_type": "display_data"
    },
    {
     "data": {
      "image/png": "[encoded data removed]",
      "text/plain": [
       "<Figure size 432x288 with 4 Axes>"
      ]
     },
     "metadata": {
      "needs_background": "light"
     },
     "output_type": "display_data"
    },
    {
     "data": {
      "image/png": "[encoded data removed]",
      "text/plain": [
       "<Figure size 432x288 with 4 Axes>"
      ]
     },
     "metadata": {
      "needs_background": "light"
     },
     "output_type": "display_data"
    },
    {
     "data": {
      "image/png": "[encoded data removed]",
      "text/plain": [
       "<Figure size 432x288 with 4 Axes>"
      ]
     },
     "metadata": {
      "needs_background": "light"
     },
     "output_type": "display_data"
    },
    {
     "data": {
      "image/png": "[encoded data removed]",
      "text/plain": [
       "<Figure size 432x288 with 4 Axes>"
      ]
     },
     "metadata": {
      "needs_background": "light"
     },
     "output_type": "display_data"
    },
    {
     "data": {
      "image/png": "[encoded data removed]",
      "text/plain": [
       "<Figure size 432x288 with 4 Axes>"
      ]
     },
     "metadata": {
      "needs_background": "light"
     },
     "output_type": "display_data"
    },
    {
     "data": {
      "image/png": "[encoded data removed]",
      "text/plain": [
       "<Figure size 432x288 with 4 Axes>"
      ]
     },
     "metadata": {
      "needs_background": "light"
     },
     "output_type": "display_data"
    },
    {
     "data": {
      "image/png": "[encoded data removed]",
      "text/plain": [
       "<Figure size 432x288 with 4 Axes>"
      ]
     },
     "metadata": {
      "needs_background": "light"
     },
     "output_type": "display_data"
    },
    {
     "data": {
      "image/png": "[encoded data removed]",
      "text/plain": [
       "<Figure size 432x288 with 4 Axes>"
      ]
     },
     "metadata": {
      "needs_background": "light"
     },
     "output_type": "display_data"
    },
    {
     "data": {
      "image/png": "[encoded data removed]",
      "text/plain": [
       "<Figure size 432x288 with 4 Axes>"
      ]
     },
     "metadata": {
      "needs_background": "light"
     },
     "output_type": "display_data"
    },
    {
     "data": {
      "image/png": "[encoded data removed]",
      "text/plain": [
       "<Figure size 432x288 with 4 Axes>"
      ]
     },
     "metadata": {
      "needs_background": "light"
     },
     "output_type": "display_data"
    },
    {
     "data": {
      "image/png": "[encoded data removed]",
      "text/plain": [
       "<Figure size 432x288 with 4 Axes>"
      ]
     },
     "metadata": {
      "needs_background": "light"
     },
     "output_type": "display_data"
    },
    {
     "data": {
      "image/png": "[encoded data removed]",
      "text/plain": [
       "<Figure size 432x288 with 4 Axes>"
      ]
     },
     "metadata": {
      "needs_background": "light"
     },
     "output_type": "display_data"
    },
    {
     "data": {
      "image/png": "[encoded data removed]",
      "text/plain": [
       "<Figure size 432x288 with 4 Axes>"
      ]
     },
     "metadata": {
      "needs_background": "light"
     },
     "output_type": "display_data"
    },
    {
     "data": {
      "image/png": "[encoded data removed]",
      "text/plain": [
       "<Figure size 432x288 with 4 Axes>"
      ]
     },
     "metadata": {
      "needs_background": "light"
     },
     "output_type": "display_data"
    },
    {
     "data": {
      "image/png": "[encoded data removed]",
      "text/plain": [
       "<Figure size 432x288 with 4 Axes>"
      ]
     },
     "metadata": {
      "needs_background": "light"
     },
     "output_type": "display_data"
    },
    {
     "data": {
      "image/png": "[encoded data removed]",
      "text/plain": [
       "<Figure size 432x288 with 4 Axes>"
      ]
     },
     "metadata": {
      "needs_background": "light"
     },
     "output_type": "display_data"
    },
    {
     "data": {
      "image/png": "[encoded data removed]",
      "text/plain": [
       "<Figure size 432x288 with 4 Axes>"
      ]
     },
     "metadata": {
      "needs_background": "light"
     },
     "output_type": "display_data"
    },
    {
     "data": {
      "image/png": "[encoded data removed]",
      "text/plain": [
       "<Figure size 432x288 with 4 Axes>"
      ]
     },
     "metadata": {
      "needs_background": "light"
     },
     "output_type": "display_data"
    },
    {
     "data": {
      "image/png": "[encoded data removed]",
      "text/plain": [
       "<Figure size 432x288 with 4 Axes>"
      ]
     },
     "metadata": {
      "needs_background": "light"
     },
     "output_type": "display_data"
    },
    {
     "data": {
      "image/png": "[encoded data removed]",
      "text/plain": [
       "<Figure size 432x288 with 4 Axes>"
      ]
     },
     "metadata": {
      "needs_background": "light"
     },
     "output_type": "display_data"
    },
    {
     "data": {
      "image/png": "[encoded data removed]",
      "text/plain": [
       "<Figure size 432x288 with 4 Axes>"
      ]
     },
     "metadata": {
      "needs_background": "light"
     },
     "output_type": "display_data"
    },
    {
     "data": {
      "image/png": "[encoded data removed]",
      "text/plain": [
       "<Figure size 432x288 with 4 Axes>"
      ]
     },
     "metadata": {
      "needs_background": "light"
     },
     "output_type": "display_data"
    },
    {
     "data": {
      "image/png": "[encoded data removed]",
      "text/plain": [
       "<Figure size 432x288 with 4 Axes>"
      ]
     },
     "metadata": {
      "needs_background": "light"
     },
     "output_type": "display_data"
    },
    {
     "data": {
      "image/png": "[encoded data removed]",
      "text/plain": [
       "<Figure size 432x288 with 4 Axes>"
      ]
     },
     "metadata": {
      "needs_background": "light"
     },
     "output_type": "display_data"
    },
    {
     "data": {
      "image/png": "[encoded data removed]",
      "text/plain": [
       "<Figure size 432x288 with 4 Axes>"
      ]
     },
     "metadata": {
      "needs_background": "light"
     },
     "output_type": "display_data"
    },
    {
     "data": {
      "image/png": "[encoded data removed]",
      "text/plain": [
       "<Figure size 432x288 with 4 Axes>"
      ]
     },
     "metadata": {
      "needs_background": "light"
     },
     "output_type": "display_data"
    },
    {
     "data": {
      "image/png": "[encoded data removed]",
      "text/plain": [
       "<Figure size 432x288 with 4 Axes>"
      ]
     },
     "metadata": {
      "needs_background": "light"
     },
     "output_type": "display_data"
    },
    {
     "data": {
      "image/png": "[encoded data removed]",
      "text/plain": [
       "<Figure size 432x288 with 4 Axes>"
      ]
     },
     "metadata": {
      "needs_background": "light"
     },
     "output_type": "display_data"
    },
    {
     "data": {
      "image/png": "[encoded data removed]",
      "text/plain": [
       "<Figure size 432x288 with 4 Axes>"
      ]
     },
     "metadata": {
      "needs_background": "light"
     },
     "output_type": "display_data"
    },
    {
     "data": {
      "image/png": "[encoded data removed]",
      "text/plain": [
       "<Figure size 432x288 with 4 Axes>"
      ]
     },
     "metadata": {
      "needs_background": "light"
     },
     "output_type": "display_data"
    },
    {
     "data": {
      "image/png": "[encoded data removed]",
      "text/plain": [
       "<Figure size 432x288 with 4 Axes>"
      ]
     },
     "metadata": {
      "needs_background": "light"
     },
     "output_type": "display_data"
    },
    {
     "data": {
      "image/png": "[encoded data removed]",
      "text/plain": [
       "<Figure size 432x288 with 4 Axes>"
      ]
     },
     "metadata": {
      "needs_background": "light"
     },
     "output_type": "display_data"
    },
    {
     "data": {
      "image/png": "[encoded data removed]",
      "text/plain": [
       "<Figure size 432x288 with 4 Axes>"
      ]
     },
     "metadata": {
      "needs_background": "light"
     },
     "output_type": "display_data"
    },
    {
     "data": {
      "image/png": "[encoded data removed]",
      "text/plain": [
       "<Figure size 432x288 with 4 Axes>"
      ]
     },
     "metadata": {
      "needs_background": "light"
     },
     "output_type": "display_data"
    },
    {
     "data": {
      "image/png": "[encoded data removed]",
      "text/plain": [
       "<Figure size 432x288 with 4 Axes>"
      ]
     },
     "metadata": {
      "needs_background": "light"
     },
     "output_type": "display_data"
    },
    {
     "data": {
      "image/png": "[encoded data removed]",
      "text/plain": [
       "<Figure size 432x288 with 4 Axes>"
      ]
     },
     "metadata": {
      "needs_background": "light"
     },
     "output_type": "display_data"
    },
    {
     "data": {
      "image/png": "[encoded data removed]",
      "text/plain": [
       "<Figure size 432x288 with 4 Axes>"
      ]
     },
     "metadata": {
      "needs_background": "light"
     },
     "output_type": "display_data"
    },
    {
     "data": {
      "image/png": "[encoded data removed]",
      "text/plain": [
       "<Figure size 432x288 with 4 Axes>"
      ]
     },
     "metadata": {
      "needs_background": "light"
     },
     "output_type": "display_data"
    },
    {
     "data": {
      "image/png": "[encoded data removed]",
      "text/plain": [
       "<Figure size 432x288 with 4 Axes>"
      ]
     },
     "metadata": {
      "needs_background": "light"
     },
     "output_type": "display_data"
    },
    {
     "data": {
      "image/png": "[encoded data removed]",
      "text/plain": [
       "<Figure size 432x288 with 4 Axes>"
      ]
     },
     "metadata": {
      "needs_background": "light"
     },
     "output_type": "display_data"
    },
    {
     "data": {
      "image/png": "[encoded data removed]",
      "text/plain": [
       "<Figure size 432x288 with 4 Axes>"
      ]
     },
     "metadata": {
      "needs_background": "light"
     },
     "output_type": "display_data"
    },
    {
     "data": {
      "image/png": "[encoded data removed]",
      "text/plain": [
       "<Figure size 432x288 with 4 Axes>"
      ]
     },
     "metadata": {
      "needs_background": "light"
     },
     "output_type": "display_data"
    },
    {
     "data": {
      "image/png": "[encoded data removed]",
      "text/plain": [
       "<Figure size 432x288 with 4 Axes>"
      ]
     },
     "metadata": {
      "needs_background": "light"
     },
     "output_type": "display_data"
    },
    {
     "data": {
      "image/png": "[encoded data removed]",
      "text/plain": [
       "<Figure size 432x288 with 4 Axes>"
      ]
     },
     "metadata": {
      "needs_background": "light"
     },
     "output_type": "display_data"
    },
    {
     "data": {
      "image/png": "[encoded data removed]",
      "text/plain": [
       "<Figure size 432x288 with 4 Axes>"
      ]
     },
     "metadata": {
      "needs_background": "light"
     },
     "output_type": "display_data"
    },
    {
     "data": {
      "image/png": "[encoded data removed]",
      "text/plain": [
       "<Figure size 432x288 with 4 Axes>"
      ]
     },
     "metadata": {
      "needs_background": "light"
     },
     "output_type": "display_data"
    },
    {
     "data": {
      "image/png": "[encoded data removed]",
      "text/plain": [
       "<Figure size 432x288 with 4 Axes>"
      ]
     },
     "metadata": {
      "needs_background": "light"
     },
     "output_type": "display_data"
    },
    {
     "data": {
      "image/png": "[encoded data removed]",
      "text/plain": [
       "<Figure size 432x288 with 4 Axes>"
      ]
     },
     "metadata": {
      "needs_background": "light"
     },
     "output_type": "display_data"
    },
    {
     "data": {
      "image/png": "[encoded data removed]",
      "text/plain": [
       "<Figure size 432x288 with 4 Axes>"
      ]
     },
     "metadata": {
      "needs_background": "light"
     },
     "output_type": "display_data"
    },
    {
     "data": {
      "image/png": "[encoded data removed]",
      "text/plain": [
       "<Figure size 432x288 with 4 Axes>"
      ]
     },
     "metadata": {
      "needs_background": "light"
     },
     "output_type": "display_data"
    },
    {
     "data": {
      "image/png": "[encoded data removed]",
      "text/plain": [
       "<Figure size 432x288 with 4 Axes>"
      ]
     },
     "metadata": {
      "needs_background": "light"
     },
     "output_type": "display_data"
    }
   ],
   "source": [
    "\n",
    "from IPython import embed\n",
    "for d, a in product(davis, annot):\n",
    "    \n",
    "    img_path = os.path.join(IMAGE_DIR, 'DAVIS20' + d,'JPEGImages/480p/') # davis_path\n",
    "    gt_path = os.path.join(IMAGE_DIR, 'DAVIS20' + d,'Annotations/480p/') # gt_path\n",
    "    pred_path = os.path.join(PRED_DIR, 'DAVIS' + d + '_480p_RefCOCO') # pred_path\n",
    "    global_iou = []\n",
    "    global_iou1 = []\n",
    "    global_iou2 = []\n",
    "    for seq in sorted(os.listdir(img_path)):\n",
    "        # show mask\n",
    "        fig = plt.figure()\n",
    "\n",
    "        # READ ANNOTATIONS\n",
    "        gt_img = os.path.join(gt_path, seq, '%05d.png' % frame)\n",
    "        annot = np.array(Image.open(gt_img)) \n",
    "\n",
    "        plt.subplot(141)\n",
    "        plt.imshow(annot)\n",
    "\n",
    "        # READ PREDICTIONS REFCOCO\n",
    "        pred_img = os.path.join(pred_path, a, seq, '%05d.png' % frame)\n",
    "        pred = np.array(Image.open(pred_img))\n",
    "\n",
    "        plt.subplot(142)\n",
    "        plt.imshow(pred)\n",
    "        \n",
    "        # READ PREDICTIONS REFCOCO+\n",
    "        pred_img = os.path.join(pred_path + '+', a, seq, '%05d.png' % frame)\n",
    "        pred1 = np.array(Image.open(pred_img))\n",
    "\n",
    "        plt.subplot(143)\n",
    "        plt.imshow(pred1)\n",
    "        \n",
    "        # READ PREDICTIONS REFCOCOg\n",
    "        pred_img = os.path.join(pred_path + 'g', a, seq, '%05d.png' % frame)\n",
    "        pred2 = np.array(Image.open(pred_img))\n",
    "\n",
    "        plt.subplot(144)\n",
    "        plt.imshow(pred2)\n",
    "\n",
    "        # PROPOSALS VS GT\n",
    "        k = np.unique(annot)[1:]\n",
    "        iou_array = []\n",
    "        iou_array1 = []\n",
    "        iou_array2 = []\n",
    "        for i in k:\n",
    "\n",
    "            gt_mask = np.zeros(annot.shape)\n",
    "            gt_mask[annot == i] = 1\n",
    "            \n",
    "            #REFCOCO\n",
    "            pred_mask = np.zeros(pred.shape)\n",
    "            pred_mask[pred == i] = 1\n",
    "            # iou\n",
    "            iou = intersection_over_union(gt_mask, pred_mask)\n",
    "            iou_array.append(iou)\n",
    "            global_iou.append(iou)\n",
    "            \n",
    "            #REFCOCO+\n",
    "            pred_mask = np.zeros(pred1.shape)\n",
    "            pred_mask[pred1 == i] = 1\n",
    "            # iou\n",
    "            iou = intersection_over_union(gt_mask, pred_mask)\n",
    "            iou_array1.append(iou)\n",
    "            global_iou1.append(iou)\n",
    "            \n",
    "            #REFCOCOg\n",
    "            pred_mask = np.zeros(pred2.shape)\n",
    "            pred_mask[pred2 == i] = 1\n",
    "            # iou\n",
    "            iou = intersection_over_union(gt_mask, pred_mask)\n",
    "            iou_array2.append(iou)\n",
    "            global_iou2.append(iou)\n",
    "            \n",
    "        print(\" >> Annot: \", a, \" >> Seq: \", seq)\n",
    "        print(\" REFCOCO >> IOU: \", iou_array)\n",
    "        print(\" REFCOCO+ >> IOU: \", iou_array1)\n",
    "        print(\" REFCOCOg >> IOU: \", iou_array2)\n",
    "        \n",
    "    print(\"----------- Global Statistics ----------\")\n",
    "    print(\" >> Annot: \", a, \" >>Mean IOU Score REFCOCO: \", np.mean(global_iou))\n",
    "    print(\" >> Annot: \", a, \" >>Mean IOU Score REFCOCO+: \", np.mean(global_iou1))\n",
    "    print(\" >> Annot: \", a, \" >>Mean IOU Score REFCOCOg: \", np.mean(global_iou2))"
   ]
  },
  {
   "cell_type": "code",
   "execution_count": 4,
   "metadata": {},
   "outputs": [
    {
     "name": "stdout",
     "output_type": "stream",
     "text": [
      " >> Annot:  annot1  >> Sequence:  aerobatics  >>Max IOU:  [0.0, 0.00017514668534897976, 0.37766544978002436]\n",
      " >> Annot:  annot1  >> Sequence:  bear  >>Max IOU:  [0.8870790595506245]\n",
      " >> Annot:  annot1  >> Sequence:  bike-packing  >>Max IOU:  [0.6214732787674531, 0.8473724231159175]\n",
      " >> Annot:  annot1  >> Sequence:  bike-trial  >>Max IOU:  [0.7893538532480259, 0.40622004741966405]\n",
      " >> Annot:  annot1  >> Sequence:  blackswan  >>Max IOU:  [0.8327777202608966]\n",
      " >> Annot:  annot1  >> Sequence:  bmx-bumps  >>Max IOU:  [0.26017375400091447, 0.7415658232489916]\n",
      " >> Annot:  annot1  >> Sequence:  bmx-trees  >>Max IOU:  [0.4037745219766576, 0.8229223248234655]\n",
      " >> Annot:  annot1  >> Sequence:  boat  >>Max IOU:  [0.6637322933990939]\n",
      " >> Annot:  annot1  >> Sequence:  boxing  >>Max IOU:  [0.8970199092741935, 0.8883037258292721, 0.7872971558192288]\n",
      " >> Annot:  annot1  >> Sequence:  boxing-fisheye  >>Max IOU:  [0.0, 0.8565621370499419, 0.86590943741424]\n",
      " >> Annot:  annot1  >> Sequence:  breakdance  >>Max IOU:  [0.747221996917836]\n",
      " >> Annot:  annot1  >> Sequence:  breakdance-flare  >>Max IOU:  [0.6954436450839329]\n",
      " >> Annot:  annot1  >> Sequence:  burnout  >>Max IOU:  [0.9167716753234779]\n",
      " >> Annot:  annot1  >> Sequence:  bus  >>Max IOU:  [0.9034503742469421]\n",
      " >> Annot:  annot1  >> Sequence:  camel  >>Max IOU:  [0.8091838511479814]\n",
      " >> Annot:  annot1  >> Sequence:  car-race  >>Max IOU:  [0.0, 0.0, 0.0, 0.08900720713849908]\n",
      " >> Annot:  annot1  >> Sequence:  car-roundabout  >>Max IOU:  [0.9419115673644659]\n",
      " >> Annot:  annot1  >> Sequence:  car-shadow  >>Max IOU:  [0.934124804213107]\n",
      " >> Annot:  annot1  >> Sequence:  car-turn  >>Max IOU:  [0.9006410256410257]\n",
      " >> Annot:  annot1  >> Sequence:  carousel  >>Max IOU:  [0.8590636383115492, 0.0, 0.0, 0.6095708775313404]\n",
      " >> Annot:  annot1  >> Sequence:  cat-girl  >>Max IOU:  [0.0, 0.0]\n",
      " >> Annot:  annot1  >> Sequence:  cats-car  >>Max IOU:  [0.0, 0.2001445739586157, 0.884530088707744, 0.6309068406840684]\n",
      " >> Annot:  annot1  >> Sequence:  chamaleon  >>Max IOU:  [0.7235687922412003]\n",
      " >> Annot:  annot1  >> Sequence:  choreography  >>Max IOU:  [0.0, 0.8412924832547755, 0.8214308107091354, 0.0, 0.0, 0.0, 0.0]\n",
      " >> Annot:  annot1  >> Sequence:  classic-car  >>Max IOU:  [0.0, 0.015794504181600957, 0.720058617167725]\n",
      " >> Annot:  annot1  >> Sequence:  color-run  >>Max IOU:  [0.8926002517532818, 0.6308278913597108, 0.7947856685860525]\n",
      " >> Annot:  annot1  >> Sequence:  cows  >>Max IOU:  [0.8205259434317282]\n",
      " >> Annot:  annot1  >> Sequence:  crossing  >>Max IOU:  [0.0, 0.825679012345679, 0.9290930870590054]\n",
      " >> Annot:  annot1  >> Sequence:  dance-jump  >>Max IOU:  [0.7955774082273593]\n",
      " >> Annot:  annot1  >> Sequence:  dance-twirl  >>Max IOU:  [0.7447338113459895]\n",
      " >> Annot:  annot1  >> Sequence:  dancing  >>Max IOU:  [0.8255361226129411, 0.8178921690645691, 0.0]\n",
      " >> Annot:  annot1  >> Sequence:  deer  >>Max IOU:  [0.8261799445875663, 0.7520900321543408]\n",
      " >> Annot:  annot1  >> Sequence:  demolition  >>Max IOU:  [0.0, 0.0, 0.17298520012203017]\n",
      " >> Annot:  annot1  >> Sequence:  disc-jockey  >>Max IOU:  [0.0, 0.0, 0.05259278632397347]\n",
      " >> Annot:  annot1  >> Sequence:  dive-in  >>Max IOU:  [0.8981849487050722]\n",
      " >> Annot:  annot1  >> Sequence:  dog  >>Max IOU:  [0.8334539621681892]\n",
      " >> Annot:  annot1  >> Sequence:  dog-agility  >>Max IOU:  [0.6800938684119876]\n",
      " >> Annot:  annot1  >> Sequence:  dog-control  >>Max IOU:  [0.0, 0.6405812324929971, 0.0, 0.9119907384600227, 0.8799316336704173]\n",
      " >> Annot:  annot1  >> Sequence:  dog-gooses  >>Max IOU:  [0.8482333412378468, 0.0, 0.0, 0.0, 0.0]\n",
      " >> Annot:  annot1  >> Sequence:  dogs-jump  >>Max IOU:  [0.0, 0.8907639680729761, 0.8236884261113336]\n",
      " >> Annot:  annot1  >> Sequence:  dogs-scale  >>Max IOU:  [0.8255755616255087, 0.6714749409842019, 0.0, 0.0]\n",
      " >> Annot:  annot1  >> Sequence:  dolphins  >>Max IOU:  [0.0, 0.0, 0.011661617642268477, 0.7836754407148032, 0.8675201650722191, 0.8763500110204981]\n",
      " >> Annot:  annot1  >> Sequence:  drift-chicane  >>Max IOU:  [0.7672552166934189]\n",
      " >> Annot:  annot1  >> Sequence:  drift-straight  >>Max IOU:  [0.0]\n",
      " >> Annot:  annot1  >> Sequence:  drift-turn  >>Max IOU:  [0.9203858670385867]\n",
      " >> Annot:  annot1  >> Sequence:  drone  >>Max IOU:  [0.0, 0.0, 0.9024501920843384, 0.0, 0.8923938023574765]\n",
      " >> Annot:  annot1  >> Sequence:  e-bike  >>Max IOU:  [0.7782446872373634, 0.6465733763903839]\n",
      " >> Annot:  annot1  >> Sequence:  elephant  >>Max IOU:  [0.8658442888850948]\n",
      " >> Annot:  annot1  >> Sequence:  flamingo  >>Max IOU:  [0.7031155535851034]\n",
      " >> Annot:  annot1  >> Sequence:  giant-slalom  >>Max IOU:  [0.0, 0.0, 0.7023484434735118]\n",
      " >> Annot:  annot1  >> Sequence:  girl-dog  >>Max IOU:  [0.0, 0.0, 0.10629542362194272]\n",
      " >> Annot:  annot1  >> Sequence:  goat  >>Max IOU:  [0.8688400104739461]\n",
      " >> Annot:  annot1  >> Sequence:  gold-fish  >>Max IOU:  [0.0, 0.0, 0.0, 0.0, 0.0]\n",
      " >> Annot:  annot1  >> Sequence:  golf  >>Max IOU:  [0.013209098383118663, 0.0, 0.8051260326202075]\n",
      " >> Annot:  annot1  >> Sequence:  grass-chopper  >>Max IOU:  [0.0, 0.0, 0.0, 0.17512637628973063]\n",
      " >> Annot:  annot1  >> Sequence:  guitar-violin  >>Max IOU:  [0.0, 0.0, 0.0, 0.1153974732750243]\n",
      " >> Annot:  annot1  >> Sequence:  gym  >>Max IOU:  [0.9263298093731791, 0.0, 0.0, 0.0]\n",
      " >> Annot:  annot1  >> Sequence:  helicopter  >>Max IOU:  [0.8999749220793178, 0.7075585789871505]\n",
      " >> Annot:  annot1  >> Sequence:  hike  >>Max IOU:  [0.6907258799927047]\n",
      " >> Annot:  annot1  >> Sequence:  hockey  >>Max IOU:  [0.0, 0.0, 0.0]\n",
      " >> Annot:  annot1  >> Sequence:  horsejump-high  >>Max IOU:  [0.6802805990704079, 0.7163471041707847]\n",
      " >> Annot:  annot1  >> Sequence:  horsejump-low  >>Max IOU:  [0.7549831783815071, 0.7336647727272727]\n",
      " >> Annot:  annot1  >> Sequence:  horsejump-stick  >>Max IOU:  [0.0, 0.7346243500089654, 0.7758824468934675]\n",
      " >> Annot:  annot1  >> Sequence:  hoverboard  >>Max IOU:  [0.0, 0.009354375896700143]\n",
      " >> Annot:  annot1  >> Sequence:  hurdles  >>Max IOU:  [0.0, 0.0, 0.6996677740863787]\n",
      " >> Annot:  annot1  >> Sequence:  india  >>Max IOU:  [0.8751455180442375, 0.0, 0.000482392667631452]\n",
      " >> Annot:  annot1  >> Sequence:  inflatable  >>Max IOU:  [0.0, 5.681818181818182e-05, 0.6800324487194345]\n",
      " >> Annot:  annot1  >> Sequence:  judo  >>Max IOU:  [0.7948896779102207, 0.8102392480774708]\n",
      " >> Annot:  annot1  >> Sequence:  juggle  >>Max IOU:  [0.0, 0.0, 0.0, 0.0014619522812204838]\n",
      " >> Annot:  annot1  >> Sequence:  kart-turn  >>Max IOU:  [0.0, 0.128179818376671, 0.5184308841843088, 0.7205475178411263]\n",
      " >> Annot:  annot1  >> Sequence:  kid-football  >>Max IOU:  [0.0, 0.0]\n",
      " >> Annot:  annot1  >> Sequence:  kids-turning  >>Max IOU:  [0.9163555963934991, 0.8841765999897683]\n",
      " >> Annot:  annot1  >> Sequence:  kite-surf  >>Max IOU:  [0.0, 0.0, 0.516816431322208]\n",
      " >> Annot:  annot1  >> Sequence:  kite-walk  >>Max IOU:  [0.0, 0.0, 0.021032240210322403]\n",
      " >> Annot:  annot1  >> Sequence:  koala  >>Max IOU:  [0.815296621224969]\n",
      " >> Annot:  annot1  >> Sequence:  lab-coat  >>Max IOU:  [0.0, 0.0, 0.8855579619286447, 0.8414199866458936, 0.8355795148247979]\n",
      " >> Annot:  annot1  >> Sequence:  lady-running  >>Max IOU:  [0.0, 0.0030843136719709585]\n",
      " >> Annot:  annot1  >> Sequence:  libby  >>Max IOU:  [0.746395844277126]\n",
      " >> Annot:  annot1  >> Sequence:  lindy-hop  >>Max IOU:  [0.0, 0.0, 0.0, 0.0, 0.0, 0.0, 0.0, 0.0]\n",
      " >> Annot:  annot1  >> Sequence:  lions  >>Max IOU:  [0.0, 0.643179892685682, 0.0]\n",
      " >> Annot:  annot1  >> Sequence:  loading  >>Max IOU:  [0.9359695092901381, 0.0, 0.8948456582363689]\n",
      " >> Annot:  annot1  >> Sequence:  lock  >>Max IOU:  [0.0, 0.5637111231255157, 0.0, 0.7754421462829736]\n",
      " >> Annot:  annot1  >> Sequence:  longboard  >>Max IOU:  [0.0, 0.0, 0.0, 0.0, 0.0]\n",
      " >> Annot:  annot1  >> Sequence:  lucia  >>Max IOU:  [0.7882834674980225]\n",
      " >> Annot:  annot1  >> Sequence:  mallard-fly  >>Max IOU:  [0.8471399522588631]\n",
      " >> Annot:  annot1  >> Sequence:  mallard-water  >>Max IOU:  [0.8370314604960774]\n",
      " >> Annot:  annot1  >> Sequence:  man-bike  >>Max IOU:  [0.8522877627003907, 0.6099480880806162]\n",
      " >> Annot:  annot1  >> Sequence:  mbike-santa  >>Max IOU:  [0.2579514824797844, 0.8467529657808387]\n",
      " >> Annot:  annot1  >> Sequence:  mbike-trick  >>Max IOU:  [0.6843033509700176, 0.8124178712220762]\n",
      " >> Annot:  annot1  >> Sequence:  miami-surf  >>Max IOU:  [0.0, 0.0, 0.0, 0.6781485468245425, 0.7789363920750783, 0.5450346420323325]\n",
      " >> Annot:  annot1  >> Sequence:  monkeys  >>Max IOU:  [0.906303645814576, 0.9232459847844463]\n",
      " >> Annot:  annot1  >> Sequence:  monkeys-trees  >>Max IOU:  [0.0, 0.45552784704904403]\n",
      " >> Annot:  annot1  >> Sequence:  motocross-bumps  >>Max IOU:  [0.0, 0.1935904116727462]\n",
      " >> Annot:  annot1  >> Sequence:  motocross-jump  >>Max IOU:  [0.0, 0.22348980736861793]\n",
      " >> Annot:  annot1  >> Sequence:  motorbike  >>Max IOU:  [0.0, 0.0, 0.0]\n",
      " >> Annot:  annot1  >> Sequence:  mtb-race  >>Max IOU:  [0.5400146598254149, 0.0, 0.0, 0.0]\n",
      " >> Annot:  annot1  >> Sequence:  night-race  >>Max IOU:  [0.0, 0.0]\n",
      " >> Annot:  annot1  >> Sequence:  ocean-birds  >>Max IOU:  [0.6993197278911565, 0.747476111692609]\n",
      " >> Annot:  annot1  >> Sequence:  orchid  >>Max IOU:  [0.47967243057716047, 0.5706320442869091]\n",
      " >> Annot:  annot1  >> Sequence:  paragliding  >>Max IOU:  [0.0, 0.9109596819988642]\n",
      " >> Annot:  annot1  >> Sequence:  paragliding-launch  >>Max IOU:  [0.0, 0.0, 0.0017058128854481039]\n",
      " >> Annot:  annot1  >> Sequence:  parkour  >>Max IOU:  [0.8365809301117173]\n",
      " >> Annot:  annot1  >> Sequence:  people-sunset  >>Max IOU:  [0.8462540716612378, 0.0, 0.0, 0.0]\n",
      " >> Annot:  annot1  >> Sequence:  pigs  >>Max IOU:  [0.8958722699845143, 0.8424941526685095, 0.8574808116917254]\n",
      " >> Annot:  annot1  >> Sequence:  planes-crossing  >>Max IOU:  [0.0, 0.0]\n",
      " >> Annot:  annot1  >> Sequence:  planes-water  >>Max IOU:  [0.0, 0.009258369989051305]\n",
      " >> Annot:  annot1  >> Sequence:  pole-vault  >>Max IOU:  [0.0, 0.781023465607045]\n",
      " >> Annot:  annot1  >> Sequence:  rallye  >>Max IOU:  [0.8872901678657075]\n",
      " >> Annot:  annot1  >> Sequence:  rhino  >>Max IOU:  [0.8196948217933405]\n",
      " >> Annot:  annot1  >> Sequence:  rollerblade  >>Max IOU:  [0.8748537327404634]\n",
      " >> Annot:  annot1  >> Sequence:  rollercoaster  >>Max IOU:  [0.07958357432041642]\n",
      " >> Annot:  annot1  >> Sequence:  running  >>Max IOU:  [0.7889483065953654, 0.8393268124280783]\n",
      " >> Annot:  annot1  >> Sequence:  salsa  >>Max IOU:  [0.0, 0.0, 0.0, 0.0, 0.0, 0.09847454333462884, 0.0, 0.8143494377081109, 0.0013531799729364006, 0.789179190751445]\n",
      " >> Annot:  annot1  >> Sequence:  schoolgirls  >>Max IOU:  [0.8592655487157715, 0.0, 0.0, 0.0, 0.0, 0.0, 0.0]\n",
      " >> Annot:  annot1  >> Sequence:  scooter-black  >>Max IOU:  [0.3239087301587302, 0.0]\n",
      " >> Annot:  annot1  >> Sequence:  scooter-board  >>Max IOU:  [0.8116777154513004, 0.0]\n",
      " >> Annot:  annot1  >> Sequence:  scooter-gray  >>Max IOU:  [0.0, 0.0]\n",
      " >> Annot:  annot1  >> Sequence:  seasnake  >>Max IOU:  [0.6892862601253248]\n",
      " >> Annot:  annot1  >> Sequence:  selfie  >>Max IOU:  [0.8500222202470892, 0.8438328374357588, 0.0, 0.0009926653063475433, 0.4720155785051637]\n",
      " >> Annot:  annot1  >> Sequence:  sheep  >>Max IOU:  [0.0, 0.0, 0.0, 0.0, 0.01262789794068126]\n",
      " >> Annot:  annot1  >> Sequence:  shooting  >>Max IOU:  [0.0, 0.0, 0.0]\n",
      " >> Annot:  annot1  >> Sequence:  skate-jump  >>Max IOU:  [0.0, 0.8289745354439092]\n",
      " >> Annot:  annot1  >> Sequence:  skate-park  >>Max IOU:  [0.0, 0.0]\n",
      " >> Annot:  annot1  >> Sequence:  skydive  >>Max IOU:  [0.0, 0.0, 0.796475853067313]\n",
      " >> Annot:  annot1  >> Sequence:  slackline  >>Max IOU:  [0.7573952199515067]\n",
      " >> Annot:  annot1  >> Sequence:  snowboard  >>Max IOU:  [0.5421321197076265, 0.8392520157831532]\n",
      " >> Annot:  annot1  >> Sequence:  soapbox  >>Max IOU:  [0.740801308258381, 0.0, 0.70297699594046]\n",
      " >> Annot:  annot1  >> Sequence:  soccerball  >>Max IOU:  [0.939016745768783]\n",
      " >> Annot:  annot1  >> Sequence:  speed-skating  >>Max IOU:  [0.8184408184408184, 0.7718150571016742, 0.825359477124183]\n",
      " >> Annot:  annot1  >> Sequence:  stroller  >>Max IOU:  [0.8141146077970879, 0.6633715335491208]\n",
      " >> Annot:  annot1  >> Sequence:  stunt  >>Max IOU:  [0.0, 0.8062218000474947]\n",
      " >> Annot:  annot1  >> Sequence:  subway  >>Max IOU:  [0.0, 0.0, 0.0, 0.0]\n",
      " >> Annot:  annot1  >> Sequence:  surf  >>Max IOU:  [0.0, 0.0, 0.8992452256724583]\n",
      " >> Annot:  annot1  >> Sequence:  swing  >>Max IOU:  [0.0, 0.0, 0.010947246664188046]\n",
      " >> Annot:  annot1  >> Sequence:  swing-boy  >>Max IOU:  [0.0, 0.7247901836916747]\n",
      " >> Annot:  annot1  >> Sequence:  tackle  >>Max IOU:  [0.0, 0.7832675462312101, 0.8265387055837563]\n",
      " >> Annot:  annot1  >> Sequence:  tandem  >>Max IOU:  [0.0, 0.0, 0.0, 0.044309587023939674]\n",
      " >> Annot:  annot1  >> Sequence:  tennis  >>Max IOU:  [0.0, 0.06264951186396844]\n",
      " >> Annot:  annot1  >> Sequence:  tennis-vest  >>Max IOU:  [0.0, 0.8137470542026709]\n",
      " >> Annot:  annot1  >> Sequence:  tractor  >>Max IOU:  [0.0036324929471576485, 0.008604822033192192]\n",
      " >> Annot:  annot1  >> Sequence:  tractor-sand  >>Max IOU:  [0.0, 0.0, 0.5557147975635973]\n",
      " >> Annot:  annot1  >> Sequence:  train  >>Max IOU:  [0.0, 0.0, 0.4072454869212821, 0.878428927680798]\n",
      " >> Annot:  annot1  >> Sequence:  tuk-tuk  >>Max IOU:  [0.9157599364225936, 0.7746299011493165, 0.9315472989489122]\n",
      " >> Annot:  annot1  >> Sequence:  turtle  >>Max IOU:  [0.6189331607654618]\n",
      " >> Annot:  annot1  >> Sequence:  upside-down  >>Max IOU:  [0.7831134952419444, 0.7292189179505554]\n",
      " >> Annot:  annot1  >> Sequence:  varanus-cage  >>Max IOU:  [0.0]\n",
      " >> Annot:  annot1  >> Sequence:  varanus-tree  >>Max IOU:  [0.0, 0.2765821540880503]\n",
      " >> Annot:  annot1  >> Sequence:  vietnam  >>Max IOU:  [0.0, 0.0, 0.0, 0.0, 0.0023423453144846016, 0.0, 0.0]\n",
      " >> Annot:  annot1  >> Sequence:  walking  >>Max IOU:  [0.8827738523100495, 0.7895036330210978]\n",
      " >> Annot:  annot1  >> Sequence:  wings-turn  >>Max IOU:  [0.0, 0.798852138633946, 0.6867276615969582]\n",
      "----------- Global Statistics ----------\n",
      " >> Annot:  annot1  >>Mean IOU Score:  0.34997248596944436\n",
      " >> Annot:  annot2  >> Sequence:  aerobatics  >>Max IOU:  [0.0, 0.00017514668534897976, 0.37766544978002436]\n",
      " >> Annot:  annot2  >> Sequence:  bear  >>Max IOU:  [0.8870790595506245]\n",
      " >> Annot:  annot2  >> Sequence:  bike-packing  >>Max IOU:  [0.6214732787674531, 0.8473724231159175]\n",
      " >> Annot:  annot2  >> Sequence:  bike-trial  >>Max IOU:  [0.0, 0.40622004741966405]\n",
      " >> Annot:  annot2  >> Sequence:  blackswan  >>Max IOU:  [0.8327777202608966]\n",
      " >> Annot:  annot2  >> Sequence:  bmx-bumps  >>Max IOU:  [0.26017375400091447, 0.7415658232489916]\n",
      " >> Annot:  annot2  >> Sequence:  bmx-trees  >>Max IOU:  [0.4037745219766576, 0.8229223248234655]\n",
      " >> Annot:  annot2  >> Sequence:  boat  >>Max IOU:  [0.6637322933990939]\n",
      " >> Annot:  annot2  >> Sequence:  boxing  >>Max IOU:  [0.8970199092741935, 0.8883037258292721, 0.7872971558192288]\n",
      " >> Annot:  annot2  >> Sequence:  boxing-fisheye  >>Max IOU:  [0.6119917298414886, 0.8565621370499419, 0.86590943741424]\n",
      " >> Annot:  annot2  >> Sequence:  breakdance  >>Max IOU:  [0.747221996917836]\n",
      " >> Annot:  annot2  >> Sequence:  breakdance-flare  >>Max IOU:  [0.6954436450839329]\n",
      " >> Annot:  annot2  >> Sequence:  burnout  >>Max IOU:  [0.9167716753234779]\n",
      " >> Annot:  annot2  >> Sequence:  bus  >>Max IOU:  [0.9034503742469421]\n",
      " >> Annot:  annot2  >> Sequence:  camel  >>Max IOU:  [0.8091838511479814]\n",
      " >> Annot:  annot2  >> Sequence:  car-race  >>Max IOU:  [0.0, 0.0, 0.0, 0.08900720713849908]\n",
      " >> Annot:  annot2  >> Sequence:  car-roundabout  >>Max IOU:  [0.9419115673644659]\n",
      " >> Annot:  annot2  >> Sequence:  car-shadow  >>Max IOU:  [0.934124804213107]\n",
      " >> Annot:  annot2  >> Sequence:  car-turn  >>Max IOU:  [0.9006410256410257]\n",
      " >> Annot:  annot2  >> Sequence:  carousel  >>Max IOU:  [0.8590636383115492, 0.0, 0.0, 0.6095708775313404]\n",
      " >> Annot:  annot2  >> Sequence:  cat-girl  >>Max IOU:  [0.0, 0.0]\n",
      " >> Annot:  annot2  >> Sequence:  cats-car  >>Max IOU:  [0.0, 0.2001445739586157, 0.884530088707744, 0.6309068406840684]\n",
      " >> Annot:  annot2  >> Sequence:  chamaleon  >>Max IOU:  [0.7235687922412003]\n",
      " >> Annot:  annot2  >> Sequence:  choreography  >>Max IOU:  [0.0, 0.8412924832547755, 0.8214308107091354, 0.0, 0.0, 0.0, 0.0]\n",
      " >> Annot:  annot2  >> Sequence:  classic-car  >>Max IOU:  [0.0, 0.015794504181600957, 0.720058617167725]\n",
      " >> Annot:  annot2  >> Sequence:  color-run  >>Max IOU:  [0.8926002517532818, 0.6308278913597108, 0.7947856685860525]\n",
      " >> Annot:  annot2  >> Sequence:  cows  >>Max IOU:  [0.8205259434317282]\n",
      " >> Annot:  annot2  >> Sequence:  crossing  >>Max IOU:  [0.0, 0.825679012345679, 0.9290930870590054]\n",
      " >> Annot:  annot2  >> Sequence:  dance-jump  >>Max IOU:  [0.7955774082273593]\n",
      " >> Annot:  annot2  >> Sequence:  dance-twirl  >>Max IOU:  [0.7447338113459895]\n",
      " >> Annot:  annot2  >> Sequence:  dancing  >>Max IOU:  [0.0, 0.8178921690645691, 0.8404426559356137]\n",
      " >> Annot:  annot2  >> Sequence:  deer  >>Max IOU:  [0.8261799445875663, 0.7520900321543408]\n",
      " >> Annot:  annot2  >> Sequence:  demolition  >>Max IOU:  [0.0, 0.0, 0.17298520012203017]\n",
      " >> Annot:  annot2  >> Sequence:  disc-jockey  >>Max IOU:  [0.0, 0.0, 0.05259278632397347]\n",
      " >> Annot:  annot2  >> Sequence:  dive-in  >>Max IOU:  [0.8981849487050722]\n",
      " >> Annot:  annot2  >> Sequence:  dog  >>Max IOU:  [0.8334539621681892]\n",
      " >> Annot:  annot2  >> Sequence:  dog-agility  >>Max IOU:  [0.6800938684119876]\n",
      " >> Annot:  annot2  >> Sequence:  dog-control  >>Max IOU:  [0.0, 0.0, 0.0, 0.9119907384600227, 0.8799316336704173]\n",
      " >> Annot:  annot2  >> Sequence:  dog-gooses  >>Max IOU:  [0.8482333412378468, 0.0, 0.0, 0.0, 0.0]\n",
      " >> Annot:  annot2  >> Sequence:  dogs-jump  >>Max IOU:  [0.0, 0.8907639680729761, 0.8236884261113336]\n",
      " >> Annot:  annot2  >> Sequence:  dogs-scale  >>Max IOU:  [0.8255755616255087, 0.0, 0.8406659534634929, 0.0009488206159743439]\n",
      " >> Annot:  annot2  >> Sequence:  dolphins  >>Max IOU:  [0.8990536277602523, 0.8886251597589921, 0.0, 0.7836754407148032, 0.8675201650722191, 0.8763500110204981]\n",
      " >> Annot:  annot2  >> Sequence:  drift-chicane  >>Max IOU:  [0.7672552166934189]\n",
      " >> Annot:  annot2  >> Sequence:  drift-straight  >>Max IOU:  [0.9044279703466239]\n",
      " >> Annot:  annot2  >> Sequence:  drift-turn  >>Max IOU:  [0.9203858670385867]\n",
      " >> Annot:  annot2  >> Sequence:  drone  >>Max IOU:  [0.0, 0.0, 0.0, 0.0, 0.8923938023574765]\n",
      " >> Annot:  annot2  >> Sequence:  e-bike  >>Max IOU:  [0.7721262656343061, 0.0]\n",
      " >> Annot:  annot2  >> Sequence:  elephant  >>Max IOU:  [0.8658442888850948]\n",
      " >> Annot:  annot2  >> Sequence:  flamingo  >>Max IOU:  [0.7031155535851034]\n",
      " >> Annot:  annot2  >> Sequence:  giant-slalom  >>Max IOU:  [0.0, 0.0, 0.7023484434735118]\n",
      " >> Annot:  annot2  >> Sequence:  girl-dog  >>Max IOU:  [0.0, 0.0, 0.10629542362194272]\n",
      " >> Annot:  annot2  >> Sequence:  goat  >>Max IOU:  [0.8688400104739461]\n",
      " >> Annot:  annot2  >> Sequence:  gold-fish  >>Max IOU:  [0.6821956216974011, 0.0, 0.0, 0.0, 0.0]\n",
      " >> Annot:  annot2  >> Sequence:  golf  >>Max IOU:  [0.0, 0.0, 0.8051260326202075]\n",
      " >> Annot:  annot2  >> Sequence:  grass-chopper  >>Max IOU:  [0.0, 0.0, 0.0036469069245928377, 0.0]\n",
      " >> Annot:  annot2  >> Sequence:  guitar-violin  >>Max IOU:  [0.0, 0.0, 0.0, 0.1153974732750243]\n",
      " >> Annot:  annot2  >> Sequence:  gym  >>Max IOU:  [0.9263298093731791, 0.0, 0.0, 0.0]\n",
      " >> Annot:  annot2  >> Sequence:  helicopter  >>Max IOU:  [0.8999749220793178, 0.7075585789871505]\n",
      " >> Annot:  annot2  >> Sequence:  hike  >>Max IOU:  [0.6907258799927047]\n",
      " >> Annot:  annot2  >> Sequence:  hockey  >>Max IOU:  [0.0, 0.0, 0.0]\n",
      " >> Annot:  annot2  >> Sequence:  horsejump-high  >>Max IOU:  [0.633605053134736, 0.0]\n",
      " >> Annot:  annot2  >> Sequence:  horsejump-low  >>Max IOU:  [0.7549831783815071, 0.7336647727272727]\n",
      " >> Annot:  annot2  >> Sequence:  horsejump-stick  >>Max IOU:  [0.0, 0.7346243500089654, 0.7758824468934675]\n",
      " >> Annot:  annot2  >> Sequence:  hoverboard  >>Max IOU:  [0.0, 0.009354375896700143]\n",
      " >> Annot:  annot2  >> Sequence:  hurdles  >>Max IOU:  [0.0, 0.0, 0.6996677740863787]\n",
      " >> Annot:  annot2  >> Sequence:  india  >>Max IOU:  [0.8751455180442375, 0.0, 0.000482392667631452]\n",
      " >> Annot:  annot2  >> Sequence:  inflatable  >>Max IOU:  [0.0, 5.681818181818182e-05, 0.6800324487194345]\n",
      " >> Annot:  annot2  >> Sequence:  judo  >>Max IOU:  [0.7948896779102207, 0.8102392480774708]\n",
      " >> Annot:  annot2  >> Sequence:  juggle  >>Max IOU:  [0.0, 0.0, 0.0, 0.0014619522812204838]\n",
      " >> Annot:  annot2  >> Sequence:  kart-turn  >>Max IOU:  [0.0, 0.128179818376671, 0.5184308841843088, 0.7205475178411263]\n",
      " >> Annot:  annot2  >> Sequence:  kid-football  >>Max IOU:  [0.0, 0.0]\n",
      " >> Annot:  annot2  >> Sequence:  kids-turning  >>Max IOU:  [0.9163555963934991, 0.8841765999897683]\n",
      " >> Annot:  annot2  >> Sequence:  kite-surf  >>Max IOU:  [0.0, 0.0, 0.516816431322208]\n",
      " >> Annot:  annot2  >> Sequence:  kite-walk  >>Max IOU:  [0.0, 0.0, 0.021032240210322403]\n",
      " >> Annot:  annot2  >> Sequence:  koala  >>Max IOU:  [0.815296621224969]\n",
      " >> Annot:  annot2  >> Sequence:  lab-coat  >>Max IOU:  [0.0, 0.0, 0.8855579619286447, 0.8414199866458936, 0.8355795148247979]\n",
      " >> Annot:  annot2  >> Sequence:  lady-running  >>Max IOU:  [0.8981064138431251, 0.0]\n",
      " >> Annot:  annot2  >> Sequence:  libby  >>Max IOU:  [0.746395844277126]\n",
      " >> Annot:  annot2  >> Sequence:  lindy-hop  >>Max IOU:  [0.0, 0.7686735350933677, 0.0, 0.0, 0.10177135760507222, 0.0, 0.0, 0.0]\n",
      " >> Annot:  annot2  >> Sequence:  lions  >>Max IOU:  [0.0, 0.643179892685682, 0.0]\n",
      " >> Annot:  annot2  >> Sequence:  loading  >>Max IOU:  [0.9359695092901381, 0.0, 0.8948456582363689]\n",
      " >> Annot:  annot2  >> Sequence:  lock  >>Max IOU:  [0.0, 0.5645866879461932, 0.15931847545219638, 0.7754421462829736]\n",
      " >> Annot:  annot2  >> Sequence:  longboard  >>Max IOU:  [0.0, 0.0, 0.0, 0.0, 0.0]\n",
      " >> Annot:  annot2  >> Sequence:  lucia  >>Max IOU:  [0.7882834674980225]\n",
      " >> Annot:  annot2  >> Sequence:  mallard-fly  >>Max IOU:  [0.8471399522588631]\n",
      " >> Annot:  annot2  >> Sequence:  mallard-water  >>Max IOU:  [0.8370314604960774]\n",
      " >> Annot:  annot2  >> Sequence:  man-bike  >>Max IOU:  [0.8522877627003907, 0.6099480880806162]\n",
      " >> Annot:  annot2  >> Sequence:  mbike-santa  >>Max IOU:  [0.2579514824797844, 0.8467529657808387]\n",
      " >> Annot:  annot2  >> Sequence:  mbike-trick  >>Max IOU:  [0.6843033509700176, 0.8124178712220762]\n",
      " >> Annot:  annot2  >> Sequence:  miami-surf  >>Max IOU:  [0.0, 0.0, 0.0, 0.6781485468245425, 0.7789363920750783, 0.5450346420323325]\n",
      " >> Annot:  annot2  >> Sequence:  monkeys  >>Max IOU:  [0.906303645814576, 0.9232459847844463]\n",
      " >> Annot:  annot2  >> Sequence:  monkeys-trees  >>Max IOU:  [0.0, 0.45552784704904403]\n",
      " >> Annot:  annot2  >> Sequence:  motocross-bumps  >>Max IOU:  [0.0, 0.1935904116727462]\n",
      " >> Annot:  annot2  >> Sequence:  motocross-jump  >>Max IOU:  [0.0, 0.22348980736861793]\n",
      " >> Annot:  annot2  >> Sequence:  motorbike  >>Max IOU:  [0.0, 0.6284046692607004, 0.0]\n",
      " >> Annot:  annot2  >> Sequence:  mtb-race  >>Max IOU:  [0.0, 0.0, 0.002180666746325726, 0.0]\n",
      " >> Annot:  annot2  >> Sequence:  night-race  >>Max IOU:  [0.0, 0.0]\n",
      " >> Annot:  annot2  >> Sequence:  ocean-birds  >>Max IOU:  [0.6993197278911565, 0.747476111692609]\n",
      " >> Annot:  annot2  >> Sequence:  orchid  >>Max IOU:  [0.0, 0.5706320442869091]\n",
      " >> Annot:  annot2  >> Sequence:  paragliding  >>Max IOU:  [0.0, 0.9109596819988642]\n",
      " >> Annot:  annot2  >> Sequence:  paragliding-launch  >>Max IOU:  [0.0, 0.0, 0.0017058128854481039]\n",
      " >> Annot:  annot2  >> Sequence:  parkour  >>Max IOU:  [0.8365809301117173]\n",
      " >> Annot:  annot2  >> Sequence:  people-sunset  >>Max IOU:  [0.0, 0.0, 0.0, 0.0]\n",
      " >> Annot:  annot2  >> Sequence:  pigs  >>Max IOU:  [0.8958722699845143, 0.8424941526685095, 0.8574808116917254]\n",
      " >> Annot:  annot2  >> Sequence:  planes-crossing  >>Max IOU:  [0.0, 0.0]\n",
      " >> Annot:  annot2  >> Sequence:  planes-water  >>Max IOU:  [0.0, 0.009258369989051305]\n",
      " >> Annot:  annot2  >> Sequence:  pole-vault  >>Max IOU:  [0.0, 0.781023465607045]\n",
      " >> Annot:  annot2  >> Sequence:  rallye  >>Max IOU:  [0.8872901678657075]\n",
      " >> Annot:  annot2  >> Sequence:  rhino  >>Max IOU:  [0.8196948217933405]\n",
      " >> Annot:  annot2  >> Sequence:  rollerblade  >>Max IOU:  [0.8748537327404634]\n",
      " >> Annot:  annot2  >> Sequence:  rollercoaster  >>Max IOU:  [0.10472541507024266]\n",
      " >> Annot:  annot2  >> Sequence:  running  >>Max IOU:  [0.7889483065953654, 0.8393268124280783]\n",
      " >> Annot:  annot2  >> Sequence:  salsa  >>Max IOU:  [0.0, 0.0, 0.0, 0.0, 0.0, 0.09847454333462884, 0.0, 0.8143494377081109, 0.0013531799729364006, 0.789179190751445]\n",
      " >> Annot:  annot2  >> Sequence:  schoolgirls  >>Max IOU:  [0.0, 0.10189139719341062, 0.0, 0.0, 0.0, 0.0, 0.0]\n",
      " >> Annot:  annot2  >> Sequence:  scooter-black  >>Max IOU:  [0.3239087301587302, 0.0]\n",
      " >> Annot:  annot2  >> Sequence:  scooter-board  >>Max IOU:  [0.0, 0.04176094441711756]\n",
      " >> Annot:  annot2  >> Sequence:  scooter-gray  >>Max IOU:  [0.0, 0.0]\n",
      " >> Annot:  annot2  >> Sequence:  seasnake  >>Max IOU:  [0.6892862601253248]\n",
      " >> Annot:  annot2  >> Sequence:  selfie  >>Max IOU:  [0.8500222202470892, 0.8438328374357588, 0.0, 0.0009926653063475433, 0.4720155785051637]\n",
      " >> Annot:  annot2  >> Sequence:  sheep  >>Max IOU:  [0.0, 0.0, 0.0, 0.0, 0.0]\n",
      " >> Annot:  annot2  >> Sequence:  shooting  >>Max IOU:  [0.0, 0.0, 0.0]\n",
      " >> Annot:  annot2  >> Sequence:  skate-jump  >>Max IOU:  [0.0, 0.8289745354439092]\n",
      " >> Annot:  annot2  >> Sequence:  skate-park  >>Max IOU:  [0.0, 0.0]\n",
      " >> Annot:  annot2  >> Sequence:  skydive  >>Max IOU:  [0.0, 0.0, 0.796475853067313]\n",
      " >> Annot:  annot2  >> Sequence:  slackline  >>Max IOU:  [0.7573952199515067]\n",
      " >> Annot:  annot2  >> Sequence:  snowboard  >>Max IOU:  [0.5421321197076265, 0.8392520157831532]\n",
      " >> Annot:  annot2  >> Sequence:  soapbox  >>Max IOU:  [0.740801308258381, 0.0, 0.70297699594046]\n",
      " >> Annot:  annot2  >> Sequence:  soccerball  >>Max IOU:  [0.939016745768783]\n",
      " >> Annot:  annot2  >> Sequence:  speed-skating  >>Max IOU:  [0.8184408184408184, 0.7718150571016742, 0.825359477124183]\n",
      " >> Annot:  annot2  >> Sequence:  stroller  >>Max IOU:  [0.8141146077970879, 0.6633715335491208]\n",
      " >> Annot:  annot2  >> Sequence:  stunt  >>Max IOU:  [0.0, 0.8062218000474947]\n",
      " >> Annot:  annot2  >> Sequence:  subway  >>Max IOU:  [0.0, 0.0, 0.0, 0.0]\n",
      " >> Annot:  annot2  >> Sequence:  surf  >>Max IOU:  [0.0, 0.0, 0.8992452256724583]\n",
      " >> Annot:  annot2  >> Sequence:  swing  >>Max IOU:  [0.0, 0.0, 0.010947246664188046]\n",
      " >> Annot:  annot2  >> Sequence:  swing-boy  >>Max IOU:  [0.0, 0.7247901836916747]\n",
      " >> Annot:  annot2  >> Sequence:  tackle  >>Max IOU:  [0.0, 0.7832675462312101, 0.8265387055837563]\n",
      " >> Annot:  annot2  >> Sequence:  tandem  >>Max IOU:  [0.0, 0.0, 0.7213575096277278, 0.5615175669056419]\n",
      " >> Annot:  annot2  >> Sequence:  tennis  >>Max IOU:  [0.0, 0.06264951186396844]\n",
      " >> Annot:  annot2  >> Sequence:  tennis-vest  >>Max IOU:  [0.0, 0.8137470542026709]\n",
      " >> Annot:  annot2  >> Sequence:  tractor  >>Max IOU:  [0.2930775590086214, 0.49816393802018494]\n",
      " >> Annot:  annot2  >> Sequence:  tractor-sand  >>Max IOU:  [0.0, 0.0, 0.5557147975635973]\n",
      " >> Annot:  annot2  >> Sequence:  train  >>Max IOU:  [0.0, 0.0, 0.4072454869212821, 0.878428927680798]\n",
      " >> Annot:  annot2  >> Sequence:  tuk-tuk  >>Max IOU:  [0.9157599364225936, 0.7746299011493165, 0.9315472989489122]\n",
      " >> Annot:  annot2  >> Sequence:  turtle  >>Max IOU:  [0.6189331607654618]\n",
      " >> Annot:  annot2  >> Sequence:  upside-down  >>Max IOU:  [0.7831134952419444, 0.7292189179505554]\n",
      " >> Annot:  annot2  >> Sequence:  varanus-cage  >>Max IOU:  [0.0]\n",
      " >> Annot:  annot2  >> Sequence:  varanus-tree  >>Max IOU:  [0.0, 0.2765821540880503]\n",
      " >> Annot:  annot2  >> Sequence:  vietnam  >>Max IOU:  [0.0, 0.016771252144941694, 0.0, 0.0, 0.0, 0.0, 0.0]\n",
      " >> Annot:  annot2  >> Sequence:  walking  >>Max IOU:  [0.8827738523100495, 0.7895036330210978]\n",
      " >> Annot:  annot2  >> Sequence:  wings-turn  >>Max IOU:  [0.0, 0.798852138633946, 0.6867276615969582]\n",
      "----------- Global Statistics ----------\n",
      " >> Annot:  annot2  >>Mean IOU Score:  0.3536885931462152\n"
     ]
    }
   ],
   "source": [
    "from IPython import embed\n",
    "for d, a in product(davis, annot):\n",
    "    \n",
    "    img_path = os.path.join(IMAGE_DIR, 'DAVIS' + d,'JPEGImages/480p/') # davis_path\n",
    "    gt_path = os.path.join(IMAGE_DIR, 'DAVIS' + d,'Annotations/480p/') # gt_path\n",
    "    pred_path = os.path.join(PRED_DIR, 'DAVIS' + d + '_480p_masks', a) # pred_path\n",
    "    \n",
    "    global_iou = []\n",
    "    for seq in sorted(os.listdir(pred_path)):\n",
    "\n",
    "        # READ ANNOTATIONS\n",
    "        gt_img = os.path.join(gt_path, seq, '%05d.png' % frame)\n",
    "        annot = np.array(Image.open(gt_img)) \n",
    "\n",
    "\n",
    "        # READ PREDICTIONS\n",
    "        pred_img = os.path.join(pred_path, seq, '%05d.png' % frame)\n",
    "        pred = np.array(Image.open(pred_img))\n",
    "\n",
    "\n",
    "        # PROPOSALS VS GT\n",
    "        k = np.unique(annot)[1:]\n",
    "        iou_array = []\n",
    "        for i in k:\n",
    "\n",
    "            gt_mask = np.zeros(annot.shape)\n",
    "            gt_mask[annot == i] = 1\n",
    "\n",
    "            pred_mask = np.zeros(pred.shape)\n",
    "            pred_mask[pred == i] = 1\n",
    "\n",
    "            # iou\n",
    "            iou = intersection_over_union(gt_mask, pred_mask)\n",
    "            iou_array.append(iou)\n",
    "            global_iou.append(iou)\n",
    "            \n",
    "        max_ind = np.argmax(iou_array)\n",
    "        \n",
    "        \n",
    "        print(\" >> Annot: \", a, \" >> Sequence: \", seq, \" >>Max IOU: \", iou_array)\n",
    "                \n",
    "    print(\"----------- Global Statistics ----------\")\n",
    "    print(\" >> Annot: \", a, \" >>Mean IOU Score: \", np.mean(global_iou))"
   ]
  },
  {
   "cell_type": "code",
   "execution_count": null,
   "metadata": {},
   "outputs": [],
   "source": []
  }
 ],
 "metadata": {
  "kernelspec": {
   "display_name": "Python 2",
   "language": "python",
   "name": "python2"
  },
  "language_info": {
   "codemirror_mode": {
    "name": "ipython",
    "version": 2
   },
   "file_extension": ".py",
   "mimetype": "text/x-python",
   "name": "python",
   "nbconvert_exporter": "python",
   "pygments_lexer": "ipython2",
   "version": "2.7.9"
  },
  "widgets": {
   "state": {},
   "version": "1.1.2"
  }
 },
 "nbformat": 4,
 "nbformat_minor": 2
}
